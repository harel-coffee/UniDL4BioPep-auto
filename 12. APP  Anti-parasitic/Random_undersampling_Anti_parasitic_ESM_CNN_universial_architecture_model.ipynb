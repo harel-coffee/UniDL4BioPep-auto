{
 "nbformat": 4,
 "nbformat_minor": 0,
 "metadata": {
  "colab": {
   "provenance": []
  },
  "kernelspec": {
   "name": "python3",
   "display_name": "Python 3 (ipykernel)",
   "language": "python"
  },
  "language_info": {
   "name": "python"
  }
 },
 "cells": [
  {
   "cell_type": "markdown",
   "source": [
    "### requirements for the following codings\n"
   ],
   "metadata": {
    "id": "95NTckuFZZzm"
   }
  },
  {
   "cell_type": "code",
   "source": [
    "### packages required \n",
    "# !pip install fair-esm \n",
    "# !pip install torch\n",
    "# !pip install tensorflow\n",
    "# !pip install sklearn"
   ],
   "metadata": {
    "id": "UO71IBS6ZgZV",
    "colab": {
     "base_uri": "https://localhost:8080/"
    },
    "outputId": "50173292-3e7b-4393-959b-a8712004aa5d",
    "ExecuteTime": {
     "end_time": "2024-07-12T22:12:43.034417Z",
     "start_time": "2024-07-12T22:12:42.932579Z"
    }
   },
   "outputs": [],
   "execution_count": 5
  },
  {
   "cell_type": "markdown",
   "source": [
    "### peptide embeddings with esm2_t6_8M_UR50D pretrained models\n",
    "6 layers, 8M parameters, dataset: UR50/D 2021_04, embedding dimension: 320\n",
    "mode download URL: https://dl.fbaipublicfiles.com/fair-esm/models/esm2_t6_8M_UR50D.pt"
   ],
   "metadata": {
    "id": "m91cA0H5w_eY"
   }
  },
  {
   "cell_type": "code",
   "source": [
    "def esm_embeddings(peptide_sequence_list):\n",
    "  # NOTICE: ESM for embeddings is quite RAM usage, if your sequence is too long, \n",
    "  #         or you have too many sequences for transformation in a single converting, \n",
    "  #         you conputer might automatically kill the job.\n",
    "  import torch\n",
    "  import esm\n",
    "  import collections\n",
    "  # load the model\n",
    "  # NOTICE: if the model was not downloaded in your local environment, it will automatically download it.\n",
    "  model, alphabet = esm.pretrained.esm2_t6_8M_UR50D()\n",
    "  batch_converter = alphabet.get_batch_converter()\n",
    "  model.eval()  # disables dropout for deterministic results\n",
    "\n",
    "  # load the peptide sequence list into the bach_converter\n",
    "  batch_labels, batch_strs, batch_tokens = batch_converter(peptide_sequence_list)\n",
    "  batch_lens = (batch_tokens != alphabet.padding_idx).sum(1)\n",
    "  ## batch tokens are the embedding results of the whole data set\n",
    "\n",
    "  # Extract per-residue representations (on CPU)\n",
    "  with torch.no_grad():\n",
    "      # Here we export the last layer of the EMS model output as the representation of the peptides\n",
    "      # model'esm2_t6_8M_UR50D' only has 6 layers, and therefore repr_layers parameters is equal to 6\n",
    "      results = model(batch_tokens, repr_layers=[6], return_contacts=True)  \n",
    "  token_representations = results[\"representations\"][6]\n",
    "\n",
    "  # Generate per-sequence representations via averaging\n",
    "  # NOTE: token 0 is always a beginning-of-sequence token, so the first residue is token 1.\n",
    "  sequence_representations = []\n",
    "  for i, tokens_len in enumerate(batch_lens):\n",
    "      sequence_representations.append(token_representations[i, 1 : tokens_len - 1].mean(0))\n",
    "  # save dataset\n",
    "  # sequence_representations is a list and each element is a tensor\n",
    "  embeddings_results = collections.defaultdict(list)\n",
    "  for i in range(len(sequence_representations)):\n",
    "      # tensor can be transformed as numpy sequence_representations[0].numpy() or sequence_representations[0].to_list\n",
    "      each_seq_rep = sequence_representations[i].tolist()\n",
    "      for each_element in each_seq_rep:\n",
    "          embeddings_results[i].append(each_element)\n",
    "  embeddings_results = pd.DataFrame(embeddings_results).T\n",
    "  return embeddings_results"
   ],
   "metadata": {
    "id": "pl7XVx5HZsHf",
    "ExecuteTime": {
     "end_time": "2024-07-12T22:12:46.214563Z",
     "start_time": "2024-07-12T22:12:46.160880Z"
    }
   },
   "outputs": [],
   "execution_count": 6
  },
  {
   "cell_type": "markdown",
   "source": [
    "### data loading and embeddings"
   ],
   "metadata": {
    "id": "RddxugbsdR1Y"
   }
  },
  {
   "cell_type": "code",
   "source": [
    "import numpy as np\n",
    "import pandas as pd"
   ],
   "metadata": {
    "id": "n6NOFoREw-40",
    "ExecuteTime": {
     "end_time": "2024-07-12T22:12:47.040184Z",
     "start_time": "2024-07-12T22:12:47.026770Z"
    }
   },
   "outputs": [],
   "execution_count": 7
  },
  {
   "cell_type": "code",
   "source": [
    "# training dataset loading\n",
    "dataset = pd.read_excel('APP_train.xlsx',na_filter = False) # take care the NA sequence problem\n",
    "sequence_list = dataset['sequence'] \n",
    "\n",
    "embeddings_results = pd.DataFrame()\n",
    "for seq in sequence_list:\n",
    "    format_seq = [seq,seq] # the setting is just following the input format setting in ESM model, [name,sequence]\n",
    "    tuple_sequence = tuple(format_seq)\n",
    "    peptide_sequence_list = []\n",
    "    peptide_sequence_list.append(tuple_sequence) # build a summarize list variable including all the sequence information\n",
    "    # employ ESM model for converting and save the converted data in csv format\n",
    "    one_seq_embeddings = esm_embeddings(peptide_sequence_list)\n",
    "    embeddings_results= pd.concat([embeddings_results,one_seq_embeddings])\n",
    "\n",
    "embeddings_results.to_csv('APP_train_esm2_t6_8M_UR50D_unified_320_dimension.csv')\n",
    "\n",
    "# loading the y dataset for model development \n",
    "y_train = dataset['label']\n",
    "y_train = np.array(y_train) # transformed as np.array for CNN model"
   ],
   "metadata": {
    "id": "LNlD8pvizH84",
    "colab": {
     "base_uri": "https://localhost:8080/"
    },
    "outputId": "d12e4bfb-dcfd-4125-fdb9-08ca1ce78779",
    "ExecuteTime": {
     "end_time": "2024-07-12T22:26:04.547620Z",
     "start_time": "2024-07-12T22:12:47.412731Z"
    }
   },
   "outputs": [],
   "execution_count": 8
  },
  {
   "metadata": {
    "ExecuteTime": {
     "end_time": "2024-07-12T22:27:52.189623Z",
     "start_time": "2024-07-12T22:27:52.173429Z"
    }
   },
   "cell_type": "code",
   "source": "y_train",
   "outputs": [
    {
     "data": {
      "text/plain": [
       "array([0, 0, 0, ..., 1, 1, 1], dtype=int64)"
      ]
     },
     "execution_count": 10,
     "metadata": {},
     "output_type": "execute_result"
    }
   ],
   "execution_count": 10
  },
  {
   "cell_type": "code",
   "source": [
    "# test dataset loading\n",
    "dataset = pd.read_excel('APP_test.xlsx',na_filter = False) # take care the NA sequence problem\n",
    "sequence_list = dataset['sequence'] \n",
    "embeddings_results = pd.DataFrame()\n",
    "# embedding all the peptide one by one\n",
    "for seq in sequence_list:\n",
    "    format_seq = [seq,seq] # the setting is just following the input format setting in ESM model, [name,sequence]\n",
    "    tuple_sequence = tuple(format_seq)\n",
    "    peptide_sequence_list = []\n",
    "    peptide_sequence_list.append(tuple_sequence) # build a summarize list variable including all the sequence information\n",
    "    # employ ESM model for converting and save the converted data in csv format\n",
    "    one_seq_embeddings = esm_embeddings(peptide_sequence_list)\n",
    "    embeddings_results= pd.concat([embeddings_results,one_seq_embeddings])\n",
    "\n",
    "embeddings_results.to_csv('APP_test_esm2_t6_8M_UR50D_unified_320_dimension.csv')\n",
    "\n",
    "\n",
    "# loading the y dataset for model development \n",
    "y_test = dataset['label']\n",
    "y_test = np.array(y_test) # transformed as np.array for CNN model"
   ],
   "metadata": {
    "id": "U7jxoIsCw8dW",
    "ExecuteTime": {
     "end_time": "2024-07-12T22:40:46.557571Z",
     "start_time": "2024-07-12T22:40:24.539163Z"
    }
   },
   "outputs": [],
   "execution_count": 11
  },
  {
   "cell_type": "code",
   "source": [
    "# assign the dataset \n",
    "X_train_data_name = 'APP_train_esm2_t6_8M_UR50D_unified_320_dimension.csv'\n",
    "X_train_data = pd.read_csv(X_train_data_name,header=0, index_col = 0,delimiter=',')\n",
    "\n",
    "X_test_data_name = 'APP_test_esm2_t6_8M_UR50D_unified_320_dimension.csv'\n",
    "X_test_data = pd.read_csv(X_test_data_name,header=0, index_col = 0,delimiter=',')\n",
    "\n",
    "X_train = np.array(X_train_data)\n",
    "X_test = np.array(X_test_data)\n",
    "\n",
    "# normalize the X data range\n",
    "from sklearn.preprocessing import MinMaxScaler\n",
    "scaler = MinMaxScaler()\n",
    "scaler.fit(X_train)\n",
    "X_train = scaler.transform(X_train) # normalize X to 0-1 range \n",
    "X_test = scaler.transform(X_test)"
   ],
   "metadata": {
    "id": "Xk13-JbBXAph",
    "ExecuteTime": {
     "end_time": "2024-07-12T22:40:47.065691Z",
     "start_time": "2024-07-12T22:40:46.557571Z"
    }
   },
   "outputs": [],
   "execution_count": 12
  },
  {
   "cell_type": "code",
   "source": [
    "# check the dimension of the dataset before model development\n",
    "print(X_train.shape)\n",
    "print(X_test.shape)\n",
    "print(y_train.shape)\n",
    "print(y_test.shape)"
   ],
   "metadata": {
    "colab": {
     "base_uri": "https://localhost:8080/"
    },
    "id": "HubTATKXslKw",
    "outputId": "dc3962e5-b170-4df6-fe8c-39055110a86b",
    "ExecuteTime": {
     "end_time": "2024-07-12T22:40:47.083157Z",
     "start_time": "2024-07-12T22:40:47.067788Z"
    }
   },
   "outputs": [
    {
     "name": "stdout",
     "output_type": "stream",
     "text": [
      "(2118, 320)\n",
      "(92, 320)\n",
      "(2118,)\n",
      "(92,)\n"
     ]
    }
   ],
   "execution_count": 13
  },
  {
   "cell_type": "code",
   "source": [
    "# training dataset loading\n",
    "dataset = pd.read_excel('APP_train.xlsx',na_filter = False) # take care the NA sequence problem\n",
    "sequence_list = dataset['sequence'] \n",
    "\n",
    "# loading the y dataset for model development \n",
    "y_train = dataset['label']\n",
    "y_train = np.array(y_train) # transformed as np.array for CNN model\n",
    "# test dataset loading\n",
    "dataset = pd.read_excel('APP_test.xlsx',na_filter = False) # take care the NA sequence problem\n",
    "sequence_list = dataset['sequence'] \n",
    "# loading the y dataset for model development \n",
    "y_test = dataset['label']\n",
    "y_test = np.array(y_test) # transformed as np.array for CNN model\n",
    "# assign the dataset \n",
    "X_train_data_name = 'APP_train_esm2_t6_8M_UR50D_unified_320_dimension.csv'\n",
    "X_train_data = pd.read_csv(X_train_data_name,header=0, index_col = 0,delimiter=',')\n",
    "\n",
    "X_test_data_name = 'APP_test_esm2_t6_8M_UR50D_unified_320_dimension.csv'\n",
    "X_test_data = pd.read_csv(X_test_data_name,header=0, index_col = 0,delimiter=',')\n",
    "\n",
    "X_train = np.array(X_train_data)\n",
    "X_test = np.array(X_test_data)\n",
    "\n",
    "# normalize the X data range\n",
    "from sklearn.preprocessing import MinMaxScaler\n",
    "scaler = MinMaxScaler()\n",
    "scaler.fit(X_train)\n",
    "X_train = scaler.transform(X_train) # normalize X to 0-1 range \n",
    "X_test = scaler.transform(X_test)\n",
    "# check the dimension of the dataset before model development\n",
    "print(X_train.shape)\n",
    "print(X_test.shape)\n",
    "print(y_train.shape)\n",
    "print(y_test.shape)"
   ],
   "metadata": {
    "colab": {
     "base_uri": "https://localhost:8080/"
    },
    "id": "AjtMdrIsWaXK",
    "outputId": "c98dd415-b56c-464c-c7cc-59711b4c10aa",
    "ExecuteTime": {
     "end_time": "2024-07-12T22:10:02.733660Z",
     "start_time": "2024-07-12T22:10:01.313725Z"
    }
   },
   "outputs": [
    {
     "name": "stdout",
     "output_type": "stream",
     "text": [
      "(2118, 320)\n",
      "(92, 320)\n",
      "(2118,)\n",
      "(92,)\n"
     ]
    }
   ],
   "execution_count": 9
  },
  {
   "cell_type": "markdown",
   "source": [
    "### dataset undersampling"
   ],
   "metadata": {
    "id": "HK4AX-gdQptF"
   }
  },
  {
   "cell_type": "markdown",
   "source": [
    "NearMiss-1 selects examples from the majority class that have the smallest average distance to the three closest examples from the minority class. NearMiss-2 selects examples from the majority class that have the smallest average distance to the three furthest examples from the minority class. NearMiss-3 involves selecting a given number of majority class examples for each example in the minority class that are closest."
   ],
   "metadata": {
    "id": "rAmtCjInShoO"
   }
  },
  {
   "cell_type": "markdown",
   "source": [
    "#### NearMiss"
   ],
   "metadata": {
    "id": "jxxOPdukVsBb"
   }
  },
  {
   "cell_type": "code",
   "source": "# !pip install imbalanced-learn",
   "metadata": {
    "colab": {
     "base_uri": "https://localhost:8080/"
    },
    "id": "RVK5tkQeQ9Ud",
    "outputId": "501e9c57-8b1a-4c46-cb53-a8aec146bfc0",
    "ExecuteTime": {
     "end_time": "2024-07-12T22:10:21.360875Z",
     "start_time": "2024-07-12T22:10:21.344506Z"
    }
   },
   "outputs": [],
   "execution_count": 10
  },
  {
   "cell_type": "code",
   "source": [
    "# NearMiss-1\n",
    "from imblearn.under_sampling import NearMiss\n",
    "# define the undersampling method\n",
    "undersample = NearMiss(sampling_strategy= 1, version=1, n_neighbors=3)\n",
    "# transform the dataset\n",
    "X_train, y_train = undersample.fit_resample(X_train, y_train)"
   ],
   "metadata": {
    "id": "ro1zSZSHRpEV",
    "ExecuteTime": {
     "end_time": "2024-07-12T22:10:40.265547Z",
     "start_time": "2024-07-12T22:10:33.218346Z"
    }
   },
   "outputs": [],
   "execution_count": 11
  },
  {
   "cell_type": "code",
   "source": [
    "# NearMiss-2\n",
    "from imblearn.under_sampling import NearMiss\n",
    "# define the undersampling method\n",
    "undersample = NearMiss(sampling_strategy= 1, version=2, n_neighbors=3)\n",
    "# transform the dataset\n",
    "X_train, y_train = undersample.fit_resample(X_train, y_train)"
   ],
   "metadata": {
    "id": "pmwwy7NXTUmQ",
    "ExecuteTime": {
     "end_time": "2024-07-12T22:10:43.749301Z",
     "start_time": "2024-07-12T22:10:43.710140Z"
    }
   },
   "outputs": [],
   "execution_count": 12
  },
  {
   "cell_type": "code",
   "source": [
    "# NearMiss-3\n",
    "from imblearn.under_sampling import NearMiss\n",
    "# define the undersampling method\n",
    "undersample = NearMiss(sampling_strategy= 1, version=3, n_neighbors=3)\n",
    "# transform the dataset\n",
    "X_train, y_train = undersample.fit_resample(X_train, y_train)"
   ],
   "metadata": {
    "id": "Tx2pjEb4TVXp",
    "ExecuteTime": {
     "end_time": "2024-07-12T22:10:46.862340Z",
     "start_time": "2024-07-12T22:10:46.837801Z"
    }
   },
   "outputs": [
    {
     "name": "stderr",
     "output_type": "stream",
     "text": [
      "c:\\users\\harel\\pycharmprojects\\unidl4biopep-auto\\venv\\lib\\site-packages\\imblearn\\under_sampling\\_prototype_selection\\_nearmiss.py:203: UserWarning: The number of the samples to be selected is larger than the number of samples available. The balancing ratio cannot be ensure and all samples will be returned.\n",
      "  warnings.warn(\n"
     ]
    }
   ],
   "execution_count": 13
  },
  {
   "cell_type": "code",
   "source": [
    "# check the dimension of the dataset before model development\n",
    "print(X_train.shape)\n",
    "print(X_test.shape)\n",
    "print(y_train.shape)\n",
    "print(y_test.shape)"
   ],
   "metadata": {
    "colab": {
     "base_uri": "https://localhost:8080/"
    },
    "id": "F8IiywgHTAlB",
    "outputId": "614d1110-21f6-4015-994e-b7dffd9b7e1b",
    "ExecuteTime": {
     "end_time": "2024-07-12T23:10:22.031646Z",
     "start_time": "2024-07-12T23:10:22.009313Z"
    }
   },
   "outputs": [
    {
     "name": "stdout",
     "output_type": "stream",
     "text": [
      "(2118, 320)\n",
      "(92, 320)\n",
      "(2118,)\n",
      "(92,)\n"
     ]
    }
   ],
   "execution_count": 14
  },
  {
   "cell_type": "markdown",
   "source": [
    "#### Random select"
   ],
   "metadata": {
    "id": "JIFlBqL8Vum2"
   }
  },
  {
   "cell_type": "code",
   "source": [
    "from imblearn.over_sampling import RandomOverSampler\n",
    "# define oversampling strategy\n",
    "oversample = RandomOverSampler(sampling_strategy=1,random_state = 0)\n",
    "X_train, y_train = oversample.fit_resample(X_train, y_train)"
   ],
   "metadata": {
    "id": "ck2w9rNbVwgc",
    "ExecuteTime": {
     "end_time": "2024-07-12T23:10:29.024907Z",
     "start_time": "2024-07-12T23:10:26.935031Z"
    }
   },
   "outputs": [],
   "execution_count": 15
  },
  {
   "cell_type": "code",
   "source": [
    "from imblearn.under_sampling import RandomUnderSampler\n",
    "# define undersampling strategy\n",
    "undersample = RandomUnderSampler(sampling_strategy='majority',random_state = 1)\n",
    "X_train, y_train = undersample.fit_resample(X_train, y_train)"
   ],
   "metadata": {
    "id": "XmnWGPouWBHP",
    "ExecuteTime": {
     "end_time": "2024-07-12T23:10:29.314514Z",
     "start_time": "2024-07-12T23:10:29.282076Z"
    }
   },
   "outputs": [],
   "execution_count": 16
  },
  {
   "cell_type": "code",
   "source": [
    "# check the dimension of the dataset before model development\n",
    "print(X_train.shape)\n",
    "print(X_test.shape)\n",
    "print(y_train.shape)\n",
    "print(y_test.shape)\n",
    "print(np.count_nonzero(y_train == 0))\n",
    "print(np.count_nonzero(y_train == 1))"
   ],
   "metadata": {
    "colab": {
     "base_uri": "https://localhost:8080/"
    },
    "id": "888hbFrfWB1i",
    "outputId": "a09c8082-d0f5-446b-8865-5d5ce07ef18f",
    "ExecuteTime": {
     "end_time": "2024-07-12T23:10:29.483684Z",
     "start_time": "2024-07-12T23:10:29.472581Z"
    }
   },
   "outputs": [
    {
     "name": "stdout",
     "output_type": "stream",
     "text": [
      "(3726, 320)\n",
      "(92, 320)\n",
      "(3726,)\n",
      "(92,)\n",
      "1863\n",
      "1863\n"
     ]
    }
   ],
   "execution_count": 17
  },
  {
   "cell_type": "markdown",
   "source": [
    "#### Cluster Centroid"
   ],
   "metadata": {
    "id": "dZDHuiVJa_NA"
   }
  },
  {
   "cell_type": "code",
   "source": [
    "from imblearn.under_sampling import ClusterCentroids\n",
    "# define ClusterCentroids strategy\n",
    "CC = ClusterCentroids(sampling_strategy=1, random_state = 3)\n",
    "X_train, y_train = CC.fit_resample(X_train, y_train)"
   ],
   "metadata": {
    "id": "V3ZrLww4bA0N",
    "ExecuteTime": {
     "end_time": "2024-07-12T23:11:49.822666Z",
     "start_time": "2024-07-12T23:10:30.180572Z"
    }
   },
   "outputs": [
    {
     "name": "stderr",
     "output_type": "stream",
     "text": [
      "c:\\users\\harel\\pycharmprojects\\unidl4biopep-auto\\venv\\lib\\site-packages\\sklearn\\cluster\\_kmeans.py:1416: FutureWarning: The default value of `n_init` will change from 10 to 'auto' in 1.4. Set the value of `n_init` explicitly to suppress the warning\n",
      "  super()._check_params_vs_input(X, default_n_init=10)\n"
     ]
    }
   ],
   "execution_count": 18
  },
  {
   "cell_type": "code",
   "source": [
    "# check the dimension of the dataset before model development\n",
    "print(X_train.shape)\n",
    "print(X_test.shape)\n",
    "print(y_train.shape)\n",
    "print(y_test.shape)\n",
    "print(np.count_nonzero(y_train == 0))\n",
    "print(np.count_nonzero(y_train == 1))"
   ],
   "metadata": {
    "colab": {
     "base_uri": "https://localhost:8080/"
    },
    "id": "a_oQZ6J5ghkU",
    "outputId": "efce1ae0-323b-4057-fed1-54a8892081ce",
    "ExecuteTime": {
     "end_time": "2024-07-12T23:11:50.019584Z",
     "start_time": "2024-07-12T23:11:49.987034Z"
    }
   },
   "outputs": [
    {
     "name": "stdout",
     "output_type": "stream",
     "text": [
      "(3726, 320)\n",
      "(92, 320)\n",
      "(3726,)\n",
      "(92,)\n",
      "1863\n",
      "1863\n"
     ]
    }
   ],
   "execution_count": 19
  },
  {
   "cell_type": "markdown",
   "source": [
    "### Model architecture"
   ],
   "metadata": {
    "id": "U3Fagh9Iw83q"
   }
  },
  {
   "cell_type": "code",
   "source": [
    "def ESM_CNN(X_train, y_train, X_test, y_test):\n",
    "  from keras.layers import Input,InputLayer, Dense, Activation, ZeroPadding2D, BatchNormalization, Flatten, Conv2D,Conv1D\n",
    "  from keras.layers import AveragePooling2D, MaxPooling2D, Dropout, AveragePooling1D, MaxPooling1D\n",
    "  from keras.models import Sequential,Model\n",
    "  from keras.optimizers import SGD\n",
    "  from keras.callbacks import ModelCheckpoint,LearningRateScheduler, EarlyStopping\n",
    "  import keras\n",
    "  from keras import backend as K\n",
    "  inputShape=(320,1)\n",
    "  input = Input(inputShape)\n",
    "  x = Conv1D(128,(3),strides = (1),name='layer_conv1',padding='same')(input)\n",
    "  x = BatchNormalization()(x)\n",
    "  x = Activation('relu')(x)\n",
    "  x = MaxPooling1D((2), name='MaxPool1',padding=\"same\")(x)\n",
    "  x = Dropout(0.15)(x)\n",
    "  x = Conv1D(32,(3),strides = (1),name='layer_conv2',padding='same')(input)\n",
    "  x = BatchNormalization()(x)\n",
    "  x = Activation('relu')(x)\n",
    "  x = MaxPooling1D((2), name='MaxPool2',padding=\"same\")(x)\n",
    "  x = Dropout(0.15)(x)\n",
    "  x = Flatten()(x)\n",
    "  x = Dense(64,activation = 'relu',name='fc1')(x)\n",
    "  x = Dropout(0.15)(x)\n",
    "  x = Dense(2,activation = 'softmax',name='fc2')(x)\n",
    "  model = Model(inputs = input,outputs = x,name='Predict')\n",
    "  # define SGD optimizer\n",
    "  momentum = 0.5\n",
    "  sgd = SGD(lr=0.01, momentum=momentum, decay=0.0, nesterov=False)\n",
    "  # compile the model\n",
    "  model.compile(loss='sparse_categorical_crossentropy',optimizer=sgd, metrics=['accuracy'])\n",
    "  # learning deccay setting\n",
    "  import math\n",
    "  def step_decay(epoch): # gradually decrease the learning rate \n",
    "      initial_lrate=0.1\n",
    "      drop=0.6\n",
    "      epochs_drop = 3.0\n",
    "      lrate= initial_lrate * math.pow(drop,    # math.pow base raised to a power\n",
    "            math.floor((1+epoch)/epochs_drop)) # math.floor Round numbers down to the nearest integer\n",
    "      return lrate\n",
    "  lrate = LearningRateScheduler(step_decay)\n",
    "\n",
    "  # early stop setting\n",
    "  early_stop = EarlyStopping(monitor='val_accuracy', patience = 40,restore_best_weights = True)\n",
    "\n",
    "  # summary the callbacks_list\n",
    "  callbacks_list = [ lrate , early_stop]\n",
    "\n",
    "  model_history = model.fit(X_train, y_train, validation_data=(X_test, y_test),\n",
    "                            epochs=200,callbacks=callbacks_list,batch_size = 8, verbose=2)\n",
    "  return model, model_history"
   ],
   "metadata": {
    "id": "b0QeK6-Cg_cv",
    "ExecuteTime": {
     "end_time": "2024-07-12T23:11:50.068966Z",
     "start_time": "2024-07-12T23:11:50.024341Z"
    }
   },
   "outputs": [],
   "execution_count": 20
  },
  {
   "cell_type": "markdown",
   "source": [
    "### 10-fold cross validation"
   ],
   "metadata": {
    "id": "sws_G8h08tuq"
   }
  },
  {
   "cell_type": "code",
   "source": [
    "#Implementing 10-fold cross validation\n",
    "from sklearn.model_selection import KFold\n",
    "k = 10 \n",
    "kf = KFold(n_splits=k, shuffle = True, random_state=1)\n",
    "X_train = pd.DataFrame(X_train)\n",
    "y_train = pd.DataFrame(y_train)\n",
    "\n",
    "# result collection list\n",
    "ACC_collecton = []\n",
    "BACC_collecton = []\n",
    "Sn_collecton = []\n",
    "Sp_collecton = []\n",
    "MCC_collecton = []\n",
    "AUC_collecton = []\n",
    "\n",
    "for train_index , test_index in kf.split(y_train):\n",
    "    X_train_CV , X_valid_CV = X_train.iloc[train_index,:],X_train.iloc[test_index,:]\n",
    "    y_train_CV , y_valid_CV = y_train.iloc[train_index] , y_train.iloc[test_index]\n",
    "    model, model_history = ESM_CNN(X_train_CV, y_train_CV, X_valid_CV, y_valid_CV)\n",
    "    # confusion matrix \n",
    "    predicted_class= []\n",
    "    predicted_protability = model.predict(X_valid_CV,batch_size=1)\n",
    "    for i in range(predicted_protability.shape[0]):\n",
    "      index = np.where(predicted_protability[i] == np.amax(predicted_protability[i]))[0][0]\n",
    "      predicted_class.append(index)\n",
    "    predicted_class = np.array(predicted_class)\n",
    "    y_true = y_valid_CV    \n",
    "    from sklearn.metrics import confusion_matrix\n",
    "    import math\n",
    "    # np.ravel() return a flatten 1D array\n",
    "    TP, FP, FN, TN = confusion_matrix(y_true, predicted_class).ravel() # shape [ [True-Positive, False-positive], [False-negative, True-negative] ]\n",
    "    ACC = (TP+TN)/(TP+TN+FP+FN)\n",
    "    ACC_collecton.append(ACC)\n",
    "    Sn_collecton.append(TP/(TP+FN))\n",
    "    Sp_collecton.append(TN/(TN+FP))\n",
    "    MCC = (TP*TN-FP*FN)/math.pow(((TP+FP)*(TP+FN)*(TN+FP)*(TN+FN)),0.5)\n",
    "    MCC_collecton.append(MCC)\n",
    "    BACC_collecton.append(0.5*TP/(TP+FN)+0.5*TN/(TN+FP))\n",
    "    from sklearn.metrics import roc_auc_score\n",
    "    AUC = roc_auc_score(y_valid_CV, predicted_protability[:,1])\n",
    "    AUC_collecton.append(AUC)\n"
   ],
   "metadata": {
    "id": "iFGZ88goj6u4",
    "colab": {
     "base_uri": "https://localhost:8080/"
    },
    "outputId": "01bd026e-81f4-4b8b-b7c5-a6bd746d4d29",
    "jupyter": {
     "is_executing": true
    },
    "ExecuteTime": {
     "start_time": "2024-07-12T23:11:50.078717Z"
    }
   },
   "outputs": [
    {
     "name": "stderr",
     "output_type": "stream",
     "text": [
      "c:\\users\\harel\\pycharmprojects\\unidl4biopep-auto\\venv\\lib\\site-packages\\keras\\optimizers\\legacy\\gradient_descent.py:114: UserWarning: The `lr` argument is deprecated, use `learning_rate` instead.\n",
      "  super().__init__(name, **kwargs)\n"
     ]
    },
    {
     "name": "stdout",
     "output_type": "stream",
     "text": [
      "Epoch 1/200\n",
      "420/420 - 9s - loss: 0.5490 - accuracy: 0.8312 - val_loss: 0.3102 - val_accuracy: 0.8633 - lr: 0.1000 - 9s/epoch - 23ms/step\n",
      "Epoch 2/200\n",
      "420/420 - 6s - loss: 0.2779 - accuracy: 0.8798 - val_loss: 0.4003 - val_accuracy: 0.7962 - lr: 0.1000 - 6s/epoch - 15ms/step\n",
      "Epoch 3/200\n",
      "420/420 - 6s - loss: 0.2181 - accuracy: 0.9102 - val_loss: 0.2023 - val_accuracy: 0.9088 - lr: 0.0600 - 6s/epoch - 15ms/step\n",
      "Epoch 4/200\n",
      "420/420 - 6s - loss: 0.1831 - accuracy: 0.9237 - val_loss: 0.1804 - val_accuracy: 0.9169 - lr: 0.0600 - 6s/epoch - 15ms/step\n",
      "Epoch 5/200\n",
      "420/420 - 6s - loss: 0.1602 - accuracy: 0.9323 - val_loss: 0.1509 - val_accuracy: 0.9357 - lr: 0.0600 - 6s/epoch - 15ms/step\n",
      "Epoch 6/200\n",
      "420/420 - 6s - loss: 0.1160 - accuracy: 0.9559 - val_loss: 0.1025 - val_accuracy: 0.9678 - lr: 0.0360 - 6s/epoch - 15ms/step\n",
      "Epoch 7/200\n",
      "420/420 - 6s - loss: 0.0997 - accuracy: 0.9615 - val_loss: 0.0903 - val_accuracy: 0.9464 - lr: 0.0360 - 6s/epoch - 15ms/step\n",
      "Epoch 8/200\n",
      "420/420 - 6s - loss: 0.0790 - accuracy: 0.9696 - val_loss: 0.0875 - val_accuracy: 0.9651 - lr: 0.0360 - 6s/epoch - 15ms/step\n",
      "Epoch 9/200\n",
      "420/420 - 6s - loss: 0.0644 - accuracy: 0.9741 - val_loss: 0.0689 - val_accuracy: 0.9786 - lr: 0.0216 - 6s/epoch - 15ms/step\n",
      "Epoch 10/200\n",
      "420/420 - 6s - loss: 0.0552 - accuracy: 0.9809 - val_loss: 0.0635 - val_accuracy: 0.9839 - lr: 0.0216 - 6s/epoch - 15ms/step\n",
      "Epoch 11/200\n",
      "420/420 - 6s - loss: 0.0507 - accuracy: 0.9794 - val_loss: 0.0454 - val_accuracy: 0.9786 - lr: 0.0216 - 6s/epoch - 15ms/step\n",
      "Epoch 12/200\n",
      "420/420 - 6s - loss: 0.0445 - accuracy: 0.9848 - val_loss: 0.0434 - val_accuracy: 0.9893 - lr: 0.0130 - 6s/epoch - 15ms/step\n",
      "Epoch 13/200\n",
      "420/420 - 6s - loss: 0.0414 - accuracy: 0.9833 - val_loss: 0.0427 - val_accuracy: 0.9839 - lr: 0.0130 - 6s/epoch - 15ms/step\n",
      "Epoch 14/200\n",
      "420/420 - 6s - loss: 0.0363 - accuracy: 0.9860 - val_loss: 0.0363 - val_accuracy: 0.9893 - lr: 0.0130 - 6s/epoch - 15ms/step\n",
      "Epoch 15/200\n",
      "420/420 - 6s - loss: 0.0291 - accuracy: 0.9893 - val_loss: 0.0428 - val_accuracy: 0.9866 - lr: 0.0078 - 6s/epoch - 15ms/step\n",
      "Epoch 16/200\n",
      "420/420 - 6s - loss: 0.0271 - accuracy: 0.9905 - val_loss: 0.0487 - val_accuracy: 0.9812 - lr: 0.0078 - 6s/epoch - 15ms/step\n",
      "Epoch 17/200\n",
      "420/420 - 6s - loss: 0.0293 - accuracy: 0.9914 - val_loss: 0.0427 - val_accuracy: 0.9812 - lr: 0.0078 - 6s/epoch - 15ms/step\n",
      "Epoch 18/200\n",
      "420/420 - 6s - loss: 0.0279 - accuracy: 0.9890 - val_loss: 0.0386 - val_accuracy: 0.9786 - lr: 0.0047 - 6s/epoch - 14ms/step\n",
      "Epoch 19/200\n",
      "420/420 - 6s - loss: 0.0255 - accuracy: 0.9914 - val_loss: 0.0357 - val_accuracy: 0.9866 - lr: 0.0047 - 6s/epoch - 14ms/step\n",
      "Epoch 20/200\n",
      "420/420 - 6s - loss: 0.0242 - accuracy: 0.9925 - val_loss: 0.0343 - val_accuracy: 0.9786 - lr: 0.0047 - 6s/epoch - 13ms/step\n",
      "Epoch 21/200\n",
      "420/420 - 6s - loss: 0.0226 - accuracy: 0.9937 - val_loss: 0.0383 - val_accuracy: 0.9839 - lr: 0.0028 - 6s/epoch - 13ms/step\n",
      "Epoch 22/200\n",
      "420/420 - 6s - loss: 0.0218 - accuracy: 0.9914 - val_loss: 0.0356 - val_accuracy: 0.9786 - lr: 0.0028 - 6s/epoch - 15ms/step\n",
      "Epoch 23/200\n",
      "420/420 - 6s - loss: 0.0260 - accuracy: 0.9914 - val_loss: 0.0389 - val_accuracy: 0.9839 - lr: 0.0028 - 6s/epoch - 15ms/step\n",
      "Epoch 24/200\n",
      "420/420 - 6s - loss: 0.0186 - accuracy: 0.9949 - val_loss: 0.0349 - val_accuracy: 0.9866 - lr: 0.0017 - 6s/epoch - 15ms/step\n",
      "Epoch 25/200\n",
      "420/420 - 6s - loss: 0.0231 - accuracy: 0.9922 - val_loss: 0.0348 - val_accuracy: 0.9839 - lr: 0.0017 - 6s/epoch - 15ms/step\n",
      "Epoch 26/200\n",
      "420/420 - 7s - loss: 0.0233 - accuracy: 0.9928 - val_loss: 0.0322 - val_accuracy: 0.9866 - lr: 0.0017 - 7s/epoch - 16ms/step\n",
      "Epoch 27/200\n",
      "420/420 - 6s - loss: 0.0215 - accuracy: 0.9946 - val_loss: 0.0337 - val_accuracy: 0.9866 - lr: 0.0010 - 6s/epoch - 14ms/step\n",
      "Epoch 28/200\n",
      "420/420 - 6s - loss: 0.0203 - accuracy: 0.9940 - val_loss: 0.0330 - val_accuracy: 0.9893 - lr: 0.0010 - 6s/epoch - 15ms/step\n",
      "Epoch 29/200\n",
      "420/420 - 7s - loss: 0.0221 - accuracy: 0.9934 - val_loss: 0.0354 - val_accuracy: 0.9839 - lr: 0.0010 - 7s/epoch - 16ms/step\n",
      "Epoch 30/200\n",
      "420/420 - 7s - loss: 0.0221 - accuracy: 0.9931 - val_loss: 0.0371 - val_accuracy: 0.9839 - lr: 6.0466e-04 - 7s/epoch - 16ms/step\n",
      "Epoch 31/200\n",
      "420/420 - 6s - loss: 0.0214 - accuracy: 0.9937 - val_loss: 0.0362 - val_accuracy: 0.9866 - lr: 6.0466e-04 - 6s/epoch - 15ms/step\n",
      "Epoch 32/200\n",
      "420/420 - 7s - loss: 0.0222 - accuracy: 0.9911 - val_loss: 0.0356 - val_accuracy: 0.9866 - lr: 6.0466e-04 - 7s/epoch - 16ms/step\n",
      "Epoch 33/200\n",
      "420/420 - 6s - loss: 0.0189 - accuracy: 0.9931 - val_loss: 0.0349 - val_accuracy: 0.9866 - lr: 3.6280e-04 - 6s/epoch - 15ms/step\n",
      "Epoch 34/200\n",
      "420/420 - 7s - loss: 0.0263 - accuracy: 0.9896 - val_loss: 0.0342 - val_accuracy: 0.9866 - lr: 3.6280e-04 - 7s/epoch - 16ms/step\n",
      "Epoch 35/200\n",
      "420/420 - 6s - loss: 0.0201 - accuracy: 0.9940 - val_loss: 0.0348 - val_accuracy: 0.9866 - lr: 3.6280e-04 - 6s/epoch - 15ms/step\n",
      "Epoch 36/200\n",
      "420/420 - 6s - loss: 0.0190 - accuracy: 0.9943 - val_loss: 0.0348 - val_accuracy: 0.9866 - lr: 2.1768e-04 - 6s/epoch - 15ms/step\n",
      "Epoch 37/200\n",
      "420/420 - 6s - loss: 0.0206 - accuracy: 0.9919 - val_loss: 0.0348 - val_accuracy: 0.9866 - lr: 2.1768e-04 - 6s/epoch - 14ms/step\n",
      "Epoch 38/200\n",
      "420/420 - 6s - loss: 0.0204 - accuracy: 0.9940 - val_loss: 0.0348 - val_accuracy: 0.9866 - lr: 2.1768e-04 - 6s/epoch - 13ms/step\n",
      "Epoch 39/200\n",
      "420/420 - 5s - loss: 0.0180 - accuracy: 0.9958 - val_loss: 0.0353 - val_accuracy: 0.9866 - lr: 1.3061e-04 - 5s/epoch - 13ms/step\n",
      "Epoch 40/200\n",
      "420/420 - 6s - loss: 0.0188 - accuracy: 0.9937 - val_loss: 0.0351 - val_accuracy: 0.9866 - lr: 1.3061e-04 - 6s/epoch - 14ms/step\n",
      "Epoch 41/200\n",
      "420/420 - 6s - loss: 0.0199 - accuracy: 0.9925 - val_loss: 0.0349 - val_accuracy: 0.9866 - lr: 1.3061e-04 - 6s/epoch - 14ms/step\n",
      "Epoch 42/200\n",
      "420/420 - 6s - loss: 0.0190 - accuracy: 0.9943 - val_loss: 0.0351 - val_accuracy: 0.9866 - lr: 7.8364e-05 - 6s/epoch - 13ms/step\n",
      "Epoch 43/200\n",
      "420/420 - 5s - loss: 0.0222 - accuracy: 0.9925 - val_loss: 0.0348 - val_accuracy: 0.9866 - lr: 7.8364e-05 - 5s/epoch - 13ms/step\n",
      "Epoch 44/200\n",
      "420/420 - 6s - loss: 0.0179 - accuracy: 0.9952 - val_loss: 0.0349 - val_accuracy: 0.9866 - lr: 7.8364e-05 - 6s/epoch - 13ms/step\n",
      "Epoch 45/200\n",
      "420/420 - 6s - loss: 0.0205 - accuracy: 0.9943 - val_loss: 0.0349 - val_accuracy: 0.9866 - lr: 4.7018e-05 - 6s/epoch - 13ms/step\n",
      "Epoch 46/200\n",
      "420/420 - 6s - loss: 0.0235 - accuracy: 0.9914 - val_loss: 0.0350 - val_accuracy: 0.9866 - lr: 4.7018e-05 - 6s/epoch - 14ms/step\n",
      "Epoch 47/200\n",
      "420/420 - 7s - loss: 0.0233 - accuracy: 0.9919 - val_loss: 0.0352 - val_accuracy: 0.9866 - lr: 4.7018e-05 - 7s/epoch - 16ms/step\n",
      "Epoch 48/200\n",
      "420/420 - 7s - loss: 0.0241 - accuracy: 0.9925 - val_loss: 0.0348 - val_accuracy: 0.9866 - lr: 2.8211e-05 - 7s/epoch - 16ms/step\n",
      "Epoch 49/200\n",
      "420/420 - 7s - loss: 0.0201 - accuracy: 0.9931 - val_loss: 0.0350 - val_accuracy: 0.9866 - lr: 2.8211e-05 - 7s/epoch - 16ms/step\n",
      "Epoch 50/200\n",
      "420/420 - 7s - loss: 0.0208 - accuracy: 0.9934 - val_loss: 0.0348 - val_accuracy: 0.9866 - lr: 2.8211e-05 - 7s/epoch - 16ms/step\n",
      "Epoch 51/200\n",
      "420/420 - 7s - loss: 0.0159 - accuracy: 0.9961 - val_loss: 0.0347 - val_accuracy: 0.9866 - lr: 1.6927e-05 - 7s/epoch - 16ms/step\n",
      "Epoch 52/200\n",
      "420/420 - 7s - loss: 0.0196 - accuracy: 0.9949 - val_loss: 0.0351 - val_accuracy: 0.9866 - lr: 1.6927e-05 - 7s/epoch - 16ms/step\n",
      "373/373 [==============================] - 2s 4ms/step\n"
     ]
    },
    {
     "name": "stderr",
     "output_type": "stream",
     "text": [
      "c:\\users\\harel\\pycharmprojects\\unidl4biopep-auto\\venv\\lib\\site-packages\\keras\\optimizers\\legacy\\gradient_descent.py:114: UserWarning: The `lr` argument is deprecated, use `learning_rate` instead.\n",
      "  super().__init__(name, **kwargs)\n"
     ]
    },
    {
     "name": "stdout",
     "output_type": "stream",
     "text": [
      "Epoch 1/200\n",
      "420/420 - 10s - loss: 0.6520 - accuracy: 0.8208 - val_loss: 0.2844 - val_accuracy: 0.8767 - lr: 0.1000 - 10s/epoch - 23ms/step\n",
      "Epoch 2/200\n",
      "420/420 - 6s - loss: 0.2933 - accuracy: 0.8741 - val_loss: 0.3569 - val_accuracy: 0.7962 - lr: 0.1000 - 6s/epoch - 15ms/step\n",
      "Epoch 3/200\n",
      "420/420 - 6s - loss: 0.2430 - accuracy: 0.8959 - val_loss: 0.2373 - val_accuracy: 0.9196 - lr: 0.0600 - 6s/epoch - 15ms/step\n",
      "Epoch 4/200\n",
      "420/420 - 8s - loss: 0.2102 - accuracy: 0.9138 - val_loss: 0.2240 - val_accuracy: 0.9088 - lr: 0.0600 - 8s/epoch - 20ms/step\n",
      "Epoch 5/200\n",
      "420/420 - 5s - loss: 0.1840 - accuracy: 0.9260 - val_loss: 0.1927 - val_accuracy: 0.9196 - lr: 0.0600 - 5s/epoch - 13ms/step\n",
      "Epoch 6/200\n",
      "420/420 - 6s - loss: 0.1456 - accuracy: 0.9415 - val_loss: 0.1653 - val_accuracy: 0.9357 - lr: 0.0360 - 6s/epoch - 15ms/step\n",
      "Epoch 7/200\n",
      "420/420 - 4s - loss: 0.1262 - accuracy: 0.9499 - val_loss: 0.1733 - val_accuracy: 0.9383 - lr: 0.0360 - 4s/epoch - 10ms/step\n",
      "Epoch 8/200\n"
     ]
    }
   ],
   "execution_count": null
  },
  {
   "cell_type": "code",
   "source": [
    "from statistics import mean, stdev\n",
    "print(mean(ACC_collecton),'±',stdev(ACC_collecton))\n",
    "print(mean(BACC_collecton),'±',stdev(BACC_collecton))\n",
    "print(mean(Sn_collecton),'±',stdev(Sn_collecton))\n",
    "print(mean(Sp_collecton),'±',stdev(Sp_collecton))\n",
    "print(mean(MCC_collecton),'±',stdev(MCC_collecton))\n",
    "print(mean(AUC_collecton),'±',stdev(AUC_collecton))\n"
   ],
   "metadata": {
    "colab": {
     "base_uri": "https://localhost:8080/"
    },
    "id": "gTi2x37MzsIY",
    "outputId": "ca6b5ab8-2d6c-4bea-d6e1-f4486481fa89",
    "jupyter": {
     "is_executing": true
    }
   },
   "outputs": [],
   "execution_count": null
  },
  {
   "cell_type": "code",
   "source": [
    "ACC_collecton"
   ],
   "metadata": {
    "colab": {
     "base_uri": "https://localhost:8080/"
    },
    "id": "397sLYBohyh7",
    "outputId": "7cca9c4f-0da1-4f80-9bf3-b7da2713807b",
    "jupyter": {
     "is_executing": true
    }
   },
   "outputs": [],
   "execution_count": null
  },
  {
   "cell_type": "markdown",
   "source": [
    "### model evaluation in test dataset"
   ],
   "metadata": {
    "id": "5JBlTA9shnQE"
   }
  },
  {
   "cell_type": "code",
   "source": [
    "# result collection list\n",
    "ACC_collecton = []\n",
    "BACC_collecton = []\n",
    "Sn_collecton = []\n",
    "Sp_collecton = []\n",
    "MCC_collecton = []\n",
    "AUC_collecton = []\n",
    "model, model_history = ESM_CNN(X_train, y_train, X_test , y_test)\n",
    "# confusion matrix \n",
    "predicted_class= []\n",
    "predicted_protability = model.predict(X_test,batch_size=1)\n",
    "for i in range(predicted_protability.shape[0]):\n",
    "  index = np.where(predicted_protability[i] == np.amax(predicted_protability[i]))[0][0]\n",
    "  predicted_class.append(index)\n",
    "predicted_class = np.array(predicted_class)\n",
    "y_true = y_test    \n",
    "from sklearn.metrics import confusion_matrix\n",
    "import math\n",
    "# np.ravel() return a flatten 1D array\n",
    "TP, FP, FN, TN = confusion_matrix(y_true, predicted_class).ravel() # shape [ [True-Positive, False-positive], [False-negative, True-negative] ]\n",
    "ACC = (TP+TN)/(TP+TN+FP+FN)\n",
    "ACC_collecton.append(ACC)\n",
    "Sn_collecton.append(TP/(TP+FN))\n",
    "Sp_collecton.append(TN/(TN+FP))\n",
    "MCC = (TP*TN-FP*FN)/math.pow(((TP+FP)*(TP+FN)*(TN+FP)*(TN+FN)),0.5)\n",
    "MCC_collecton.append(MCC)\n",
    "BACC_collecton.append(0.5*TP/(TP+FN)+0.5*TN/(TN+FP))\n",
    "from sklearn.metrics import roc_auc_score\n",
    "AUC = roc_auc_score(y_test, predicted_protability[:,1])\n",
    "AUC_collecton.append(AUC)"
   ],
   "metadata": {
    "id": "KPwEv_WsnH6Q",
    "colab": {
     "base_uri": "https://localhost:8080/"
    },
    "outputId": "7ee2ab18-c562-4c87-870e-2b5ad8538e86"
   },
   "execution_count": 130,
   "outputs": [
    {
     "output_type": "stream",
     "name": "stdout",
     "text": [
      "Epoch 1/200\n"
     ]
    },
    {
     "output_type": "stream",
     "name": "stderr",
     "text": [
      "/usr/local/lib/python3.8/dist-packages/keras/optimizers/optimizer_v2/gradient_descent.py:114: UserWarning: The `lr` argument is deprecated, use `learning_rate` instead.\n",
      "  super().__init__(name, **kwargs)\n"
     ]
    },
    {
     "output_type": "stream",
     "name": "stdout",
     "text": [
      "64/64 - 2s - loss: 1.0690 - accuracy: 0.6706 - val_loss: 0.6979 - val_accuracy: 0.5000 - lr: 0.1000 - 2s/epoch - 36ms/step\n",
      "Epoch 2/200\n",
      "64/64 - 1s - loss: 0.4084 - accuracy: 0.8216 - val_loss: 0.6965 - val_accuracy: 0.5000 - lr: 0.1000 - 725ms/epoch - 11ms/step\n",
      "Epoch 3/200\n",
      "64/64 - 1s - loss: 0.3796 - accuracy: 0.8451 - val_loss: 0.6964 - val_accuracy: 0.5000 - lr: 0.0600 - 662ms/epoch - 10ms/step\n",
      "Epoch 4/200\n",
      "64/64 - 1s - loss: 0.3016 - accuracy: 0.8627 - val_loss: 0.6818 - val_accuracy: 0.5326 - lr: 0.0600 - 630ms/epoch - 10ms/step\n",
      "Epoch 5/200\n",
      "64/64 - 1s - loss: 0.3048 - accuracy: 0.8647 - val_loss: 0.6315 - val_accuracy: 0.6413 - lr: 0.0600 - 639ms/epoch - 10ms/step\n",
      "Epoch 6/200\n",
      "64/64 - 1s - loss: 0.2687 - accuracy: 0.8902 - val_loss: 0.5485 - val_accuracy: 0.8152 - lr: 0.0360 - 617ms/epoch - 10ms/step\n",
      "Epoch 7/200\n",
      "64/64 - 1s - loss: 0.2474 - accuracy: 0.9059 - val_loss: 0.4456 - val_accuracy: 0.8587 - lr: 0.0360 - 615ms/epoch - 10ms/step\n",
      "Epoch 8/200\n",
      "64/64 - 1s - loss: 0.2153 - accuracy: 0.9020 - val_loss: 0.3283 - val_accuracy: 0.8587 - lr: 0.0360 - 616ms/epoch - 10ms/step\n",
      "Epoch 9/200\n",
      "64/64 - 1s - loss: 0.1962 - accuracy: 0.9196 - val_loss: 0.3098 - val_accuracy: 0.8587 - lr: 0.0216 - 605ms/epoch - 9ms/step\n",
      "Epoch 10/200\n",
      "64/64 - 1s - loss: 0.1905 - accuracy: 0.9176 - val_loss: 0.3258 - val_accuracy: 0.8696 - lr: 0.0216 - 679ms/epoch - 11ms/step\n",
      "Epoch 11/200\n",
      "64/64 - 1s - loss: 0.1685 - accuracy: 0.9255 - val_loss: 0.3381 - val_accuracy: 0.8913 - lr: 0.0216 - 640ms/epoch - 10ms/step\n",
      "Epoch 12/200\n",
      "64/64 - 1s - loss: 0.1447 - accuracy: 0.9431 - val_loss: 0.3734 - val_accuracy: 0.8804 - lr: 0.0130 - 610ms/epoch - 10ms/step\n",
      "Epoch 13/200\n",
      "64/64 - 1s - loss: 0.1545 - accuracy: 0.9314 - val_loss: 0.3688 - val_accuracy: 0.8804 - lr: 0.0130 - 671ms/epoch - 10ms/step\n",
      "Epoch 14/200\n",
      "64/64 - 1s - loss: 0.1331 - accuracy: 0.9431 - val_loss: 0.3630 - val_accuracy: 0.8696 - lr: 0.0130 - 624ms/epoch - 10ms/step\n",
      "Epoch 15/200\n",
      "64/64 - 1s - loss: 0.1273 - accuracy: 0.9510 - val_loss: 0.4105 - val_accuracy: 0.8804 - lr: 0.0078 - 669ms/epoch - 10ms/step\n",
      "Epoch 16/200\n",
      "64/64 - 1s - loss: 0.1340 - accuracy: 0.9373 - val_loss: 0.4084 - val_accuracy: 0.8696 - lr: 0.0078 - 641ms/epoch - 10ms/step\n",
      "Epoch 17/200\n",
      "64/64 - 1s - loss: 0.1117 - accuracy: 0.9529 - val_loss: 0.4547 - val_accuracy: 0.8804 - lr: 0.0078 - 646ms/epoch - 10ms/step\n",
      "Epoch 18/200\n",
      "64/64 - 1s - loss: 0.1096 - accuracy: 0.9588 - val_loss: 0.4539 - val_accuracy: 0.8804 - lr: 0.0047 - 960ms/epoch - 15ms/step\n",
      "Epoch 19/200\n",
      "64/64 - 1s - loss: 0.1157 - accuracy: 0.9471 - val_loss: 0.4475 - val_accuracy: 0.8804 - lr: 0.0047 - 953ms/epoch - 15ms/step\n",
      "Epoch 20/200\n",
      "64/64 - 1s - loss: 0.1074 - accuracy: 0.9510 - val_loss: 0.4291 - val_accuracy: 0.8696 - lr: 0.0047 - 917ms/epoch - 14ms/step\n",
      "Epoch 21/200\n",
      "64/64 - 1s - loss: 0.1029 - accuracy: 0.9588 - val_loss: 0.4371 - val_accuracy: 0.8696 - lr: 0.0028 - 619ms/epoch - 10ms/step\n",
      "Epoch 22/200\n",
      "64/64 - 1s - loss: 0.0950 - accuracy: 0.9647 - val_loss: 0.4607 - val_accuracy: 0.8696 - lr: 0.0028 - 609ms/epoch - 10ms/step\n",
      "Epoch 23/200\n",
      "64/64 - 1s - loss: 0.1026 - accuracy: 0.9490 - val_loss: 0.4779 - val_accuracy: 0.8696 - lr: 0.0028 - 631ms/epoch - 10ms/step\n",
      "Epoch 24/200\n",
      "64/64 - 1s - loss: 0.0949 - accuracy: 0.9608 - val_loss: 0.4573 - val_accuracy: 0.8696 - lr: 0.0017 - 585ms/epoch - 9ms/step\n",
      "Epoch 25/200\n",
      "64/64 - 1s - loss: 0.0880 - accuracy: 0.9745 - val_loss: 0.4600 - val_accuracy: 0.8696 - lr: 0.0017 - 640ms/epoch - 10ms/step\n",
      "Epoch 26/200\n",
      "64/64 - 1s - loss: 0.0966 - accuracy: 0.9569 - val_loss: 0.4677 - val_accuracy: 0.8696 - lr: 0.0017 - 618ms/epoch - 10ms/step\n",
      "Epoch 27/200\n",
      "64/64 - 1s - loss: 0.0938 - accuracy: 0.9608 - val_loss: 0.4667 - val_accuracy: 0.8696 - lr: 0.0010 - 629ms/epoch - 10ms/step\n",
      "Epoch 28/200\n",
      "64/64 - 1s - loss: 0.0975 - accuracy: 0.9549 - val_loss: 0.4665 - val_accuracy: 0.8696 - lr: 0.0010 - 669ms/epoch - 10ms/step\n",
      "Epoch 29/200\n",
      "64/64 - 1s - loss: 0.0939 - accuracy: 0.9529 - val_loss: 0.4684 - val_accuracy: 0.8696 - lr: 0.0010 - 661ms/epoch - 10ms/step\n",
      "Epoch 30/200\n",
      "64/64 - 1s - loss: 0.0963 - accuracy: 0.9608 - val_loss: 0.4675 - val_accuracy: 0.8696 - lr: 6.0466e-04 - 600ms/epoch - 9ms/step\n",
      "Epoch 31/200\n",
      "64/64 - 1s - loss: 0.1063 - accuracy: 0.9549 - val_loss: 0.4652 - val_accuracy: 0.8696 - lr: 6.0466e-04 - 650ms/epoch - 10ms/step\n",
      "Epoch 32/200\n",
      "64/64 - 1s - loss: 0.0947 - accuracy: 0.9627 - val_loss: 0.4644 - val_accuracy: 0.8696 - lr: 6.0466e-04 - 665ms/epoch - 10ms/step\n",
      "Epoch 33/200\n",
      "64/64 - 1s - loss: 0.0890 - accuracy: 0.9627 - val_loss: 0.4660 - val_accuracy: 0.8696 - lr: 3.6280e-04 - 633ms/epoch - 10ms/step\n",
      "Epoch 34/200\n",
      "64/64 - 1s - loss: 0.0804 - accuracy: 0.9706 - val_loss: 0.4698 - val_accuracy: 0.8696 - lr: 3.6280e-04 - 642ms/epoch - 10ms/step\n",
      "Epoch 35/200\n",
      "64/64 - 1s - loss: 0.0939 - accuracy: 0.9627 - val_loss: 0.4669 - val_accuracy: 0.8696 - lr: 3.6280e-04 - 654ms/epoch - 10ms/step\n",
      "Epoch 36/200\n",
      "64/64 - 1s - loss: 0.0848 - accuracy: 0.9686 - val_loss: 0.4668 - val_accuracy: 0.8696 - lr: 2.1768e-04 - 714ms/epoch - 11ms/step\n",
      "Epoch 37/200\n",
      "64/64 - 1s - loss: 0.0887 - accuracy: 0.9647 - val_loss: 0.4663 - val_accuracy: 0.8696 - lr: 2.1768e-04 - 919ms/epoch - 14ms/step\n",
      "Epoch 38/200\n",
      "64/64 - 1s - loss: 0.0816 - accuracy: 0.9706 - val_loss: 0.4684 - val_accuracy: 0.8696 - lr: 2.1768e-04 - 951ms/epoch - 15ms/step\n",
      "Epoch 39/200\n",
      "64/64 - 1s - loss: 0.0866 - accuracy: 0.9647 - val_loss: 0.4663 - val_accuracy: 0.8696 - lr: 1.3061e-04 - 877ms/epoch - 14ms/step\n",
      "Epoch 40/200\n",
      "64/64 - 1s - loss: 0.0884 - accuracy: 0.9647 - val_loss: 0.4681 - val_accuracy: 0.8696 - lr: 1.3061e-04 - 661ms/epoch - 10ms/step\n",
      "Epoch 41/200\n",
      "64/64 - 1s - loss: 0.1044 - accuracy: 0.9490 - val_loss: 0.4702 - val_accuracy: 0.8696 - lr: 1.3061e-04 - 600ms/epoch - 9ms/step\n",
      "Epoch 42/200\n",
      "64/64 - 1s - loss: 0.0893 - accuracy: 0.9647 - val_loss: 0.4702 - val_accuracy: 0.8696 - lr: 7.8364e-05 - 633ms/epoch - 10ms/step\n",
      "Epoch 43/200\n",
      "64/64 - 1s - loss: 0.0925 - accuracy: 0.9667 - val_loss: 0.4700 - val_accuracy: 0.8696 - lr: 7.8364e-05 - 653ms/epoch - 10ms/step\n",
      "Epoch 44/200\n",
      "64/64 - 1s - loss: 0.1006 - accuracy: 0.9529 - val_loss: 0.4693 - val_accuracy: 0.8696 - lr: 7.8364e-05 - 653ms/epoch - 10ms/step\n",
      "Epoch 45/200\n",
      "64/64 - 1s - loss: 0.0892 - accuracy: 0.9588 - val_loss: 0.4693 - val_accuracy: 0.8696 - lr: 4.7018e-05 - 622ms/epoch - 10ms/step\n",
      "Epoch 46/200\n",
      "64/64 - 1s - loss: 0.1007 - accuracy: 0.9549 - val_loss: 0.4698 - val_accuracy: 0.8696 - lr: 4.7018e-05 - 603ms/epoch - 9ms/step\n",
      "Epoch 47/200\n",
      "64/64 - 1s - loss: 0.0923 - accuracy: 0.9667 - val_loss: 0.4696 - val_accuracy: 0.8696 - lr: 4.7018e-05 - 616ms/epoch - 10ms/step\n",
      "Epoch 48/200\n",
      "64/64 - 1s - loss: 0.0900 - accuracy: 0.9765 - val_loss: 0.4700 - val_accuracy: 0.8696 - lr: 2.8211e-05 - 624ms/epoch - 10ms/step\n",
      "Epoch 49/200\n",
      "64/64 - 1s - loss: 0.0757 - accuracy: 0.9804 - val_loss: 0.4699 - val_accuracy: 0.8696 - lr: 2.8211e-05 - 653ms/epoch - 10ms/step\n",
      "Epoch 50/200\n",
      "64/64 - 1s - loss: 0.0944 - accuracy: 0.9588 - val_loss: 0.4695 - val_accuracy: 0.8696 - lr: 2.8211e-05 - 617ms/epoch - 10ms/step\n",
      "Epoch 51/200\n",
      "64/64 - 1s - loss: 0.0963 - accuracy: 0.9569 - val_loss: 0.4700 - val_accuracy: 0.8696 - lr: 1.6927e-05 - 616ms/epoch - 10ms/step\n",
      "92/92 [==============================] - 0s 2ms/step\n"
     ]
    }
   ]
  },
  {
   "cell_type": "code",
   "source": [
    "print(ACC_collecton[0])\n",
    "print(BACC_collecton[0])\n",
    "print(Sn_collecton[0])\n",
    "print(Sp_collecton[0])\n",
    "print(MCC_collecton[0])\n",
    "print(AUC_collecton[0])"
   ],
   "metadata": {
    "colab": {
     "base_uri": "https://localhost:8080/"
    },
    "id": "BF0RTvNSBcMl",
    "outputId": "476d3df8-c669-4156-ea10-dd2429cf0b29"
   },
   "execution_count": 131,
   "outputs": [
    {
     "output_type": "stream",
     "name": "stdout",
     "text": [
      "0.8913043478260869\n",
      "0.9107142857142857\n",
      "0.8214285714285714\n",
      "1.0\n",
      "0.8017837257372732\n",
      "0.9399810964083176\n"
     ]
    }
   ]
  },
  {
   "cell_type": "code",
   "source": [
    "model.save('APP_tensorflow_model',save_format = 'tf') \n",
    "!zip -r /content/AMAP_alternative_tensorflow_model.zip /content/AMAP_alternative_tensorflow_model"
   ],
   "metadata": {
    "colab": {
     "base_uri": "https://localhost:8080/"
    },
    "id": "rDNAw5DCUDHT",
    "outputId": "eafb3ce8-0db6-4f48-aecd-8d6377ac8893"
   },
   "execution_count": 132,
   "outputs": [
    {
     "output_type": "stream",
     "name": "stderr",
     "text": [
      "WARNING:absl:Found untraced functions such as _jit_compiled_convolution_op while saving (showing 1 of 1). These functions will not be directly callable after loading.\n"
     ]
    },
    {
     "output_type": "stream",
     "name": "stdout",
     "text": [
      "\tzip warning: name not matched: /content/AMAP_alternative_tensorflow_model\n",
      "\n",
      "zip error: Nothing to do! (try: zip -r /content/AMAP_alternative_tensorflow_model.zip . -i /content/AMAP_alternative_tensorflow_model)\n"
     ]
    }
   ]
  },
  {
   "cell_type": "markdown",
   "source": [
    "### t-SNE graph making"
   ],
   "metadata": {
    "id": "1G1yUX0bCZyG"
   }
  },
  {
   "cell_type": "code",
   "source": [
    "# loading datasset\n",
    "X_train_data_name = 'BBP_train_esm2_t6_8M_UR50D_unified_320_dimension.csv'\n",
    "X_train_data = pd.read_csv(X_train_data_name,header=0, index_col = 0,delimiter=',')\n",
    "X_test_data_name = 'BBP_test_esm2_t6_8M_UR50D_unified_320_dimension.csv'\n",
    "X_test_data = pd.read_csv(X_test_data_name,header=0, index_col = 0,delimiter=',')\n",
    "X_train = np.array(X_train_data)\n",
    "X_test = np.array(X_test_data)\n",
    "# training dataset loading\n",
    "dataset = pd.read_excel('BBP_train.xlsx',na_filter = False) # take care the NA sequence problem\n",
    "# loading the y dataset for model development \n",
    "y_train = dataset['label']\n",
    "y_train = np.array(y_train) # transformed as np.array for CNN model\n",
    "# training dataset loading\n",
    "dataset = pd.read_excel('BBP_test.xlsx',na_filter = False) # take care the NA sequence problem\n",
    "# loading the y dataset for model development \n",
    "y_test = dataset['label']\n",
    "y_test = np.array(y_test) # transformed as np.array for CNN model\n",
    "# normalize the X data range (just )\n",
    "from sklearn.preprocessing import MinMaxScaler\n",
    "scaler = MinMaxScaler()\n",
    "scaler.fit(X_train)\n",
    "X_train = scaler.transform(X_train) # normalize X to 0-1 range \n",
    "X_test = scaler.transform(X_test)\n",
    "# concatenate the dataset\n",
    "X = np.concatenate((X_train, X_test), axis=0)\n",
    "y = np.concatenate((y_train, y_test), axis=0)\n",
    "\n",
    "from sklearn.manifold import TSNE\n",
    "from keras.datasets import mnist\n",
    "from sklearn.datasets import load_iris\n",
    "from numpy import reshape\n",
    "import seaborn as sns\n",
    "import pandas as pd  \n",
    "tsne = TSNE(n_components=2, verbose=0, perplexity= 25, learning_rate='auto',n_iter = 5000,random_state=123)\n",
    "z = tsne.fit_transform(X) \n",
    "df = pd.DataFrame()\n",
    "df[\"comp-1\"] = z[:,0]\n",
    "df[\"comp-2\"] = z[:,1]\n",
    "y_new_label=[]\n",
    "for i in y:\n",
    "    if i == 0:\n",
    "        y_new_label.append('Active')\n",
    "    if i == 1:\n",
    "        y_new_label.append('Inactive')\n",
    "df[\"y\"] = y_new_label\n",
    "graph = sns.scatterplot(data=df, x=\"comp-1\", y=\"comp-2\", hue=y_new_label,\n",
    "                palette='BrBG_r', legend='full')\n",
    "graph_for_output = graph.get_figure()\n",
    "graph_for_output.savefig('11.BBP_t-SNE.png', dpi=300)\n",
    "df.to_excel('11.BBP_t-SNE.xlsx')\n"
   ],
   "metadata": {
    "colab": {
     "base_uri": "https://localhost:8080/",
     "height": 335
    },
    "id": "abadUCq3CeO3",
    "outputId": "67ea80d8-d380-4ddf-a827-d7cbaba87419"
   },
   "execution_count": null,
   "outputs": [
    {
     "output_type": "stream",
     "name": "stderr",
     "text": [
      "/usr/local/lib/python3.8/dist-packages/sklearn/manifold/_t_sne.py:780: FutureWarning: The default initialization in TSNE will change from 'random' to 'pca' in 1.2.\n",
      "  warnings.warn(\n"
     ]
    },
    {
     "output_type": "display_data",
     "data": {
      "text/plain": [
       "<Figure size 432x288 with 1 Axes>"
      ],
      "image/png": "[encoded data removed]"
     },
     "metadata": {
      "needs_background": "light"
     }
    }
   ]
  },
  {
   "cell_type": "markdown",
   "source": [],
   "metadata": {
    "collapsed": false
   }
  },
  {
   "cell_type": "code",
   "source": [
    "!pip install umap"
   ],
   "metadata": {
    "id": "rQIWSlOUCwqb"
   },
   "execution_count": 1,
   "outputs": [
    {
     "name": "stdout",
     "output_type": "stream",
     "text": [
      "Collecting umap\r\n",
      "  Downloading umap-0.1.1.tar.gz (3.2 kB)\r\n",
      "Building wheels for collected packages: umap\r\n",
      "  Building wheel for umap (setup.py) ... \u001B[?25ldone\r\n",
      "\u001B[?25h  Created wheel for umap: filename=umap-0.1.1-py3-none-any.whl size=3564 sha256=879a7899406d5aec8c819a383fa99940a5800f1e54e2ee1231bd20f2b57ac85c\r\n",
      "  Stored in directory: /Users/zhenjiaodu/Library/Caches/pip/wheels/d4/13/91/2e752dc8dab5df027854bd33d2b65e1dc5cdc107fd1133990f\r\n",
      "Successfully built umap\r\n",
      "Installing collected packages: umap\r\n",
      "Successfully installed umap-0.1.1\r\n"
     ]
    }
   ]
  },
  {
   "cell_type": "code",
   "execution_count": 2,
   "outputs": [
    {
     "ename": "AttributeError",
     "evalue": "module 'umap' has no attribute 'UMAP'",
     "output_type": "error",
     "traceback": [
      "\u001B[0;31m---------------------------------------------------------------------------\u001B[0m",
      "\u001B[0;31mAttributeError\u001B[0m                            Traceback (most recent call last)",
      "\u001B[0;32m/var/folders/jn/46mlt8753tq08psvz71pkvnr0000gn/T/ipykernel_86796/3494986884.py\u001B[0m in \u001B[0;36m<module>\u001B[0;34m\u001B[0m\n\u001B[1;32m      1\u001B[0m \u001B[0;32mimport\u001B[0m \u001B[0mumap\u001B[0m\u001B[0;34m\u001B[0m\u001B[0;34m\u001B[0m\u001B[0m\n\u001B[0;32m----> 2\u001B[0;31m \u001B[0mreducer\u001B[0m \u001B[0;34m=\u001B[0m \u001B[0mumap\u001B[0m\u001B[0;34m.\u001B[0m\u001B[0mUMAP\u001B[0m\u001B[0;34m(\u001B[0m\u001B[0;34m)\u001B[0m\u001B[0;34m\u001B[0m\u001B[0;34m\u001B[0m\u001B[0m\n\u001B[0m",
      "\u001B[0;31mAttributeError\u001B[0m: module 'umap' has no attribute 'UMAP'"
     ]
    }
   ],
   "source": [
    "import umap\n",
    "reducer = umap.UMAP()"
   ],
   "metadata": {
    "collapsed": false
   }
  },
  {
   "cell_type": "code",
   "execution_count": null,
   "outputs": [],
   "source": [],
   "metadata": {
    "collapsed": false
   }
  }
 ]
}
